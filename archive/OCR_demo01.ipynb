{
 "cells": [
  {
   "cell_type": "code",
   "execution_count": 10,
   "metadata": {},
   "outputs": [],
   "source": [
    "# Generic Libraries\n",
    "from PIL import Image\n",
    "import os\n",
    "import pandas as pd\n",
    "import numpy as np\n",
    "import re,string,unicodedata\n",
    "\n",
    "#Tesseract Library\n",
    "import pytesseract\n",
    "\n",
    "#Warnings\n",
    "import warnings\n",
    "warnings.filterwarnings(\"ignore\")\n",
    "\n",
    "#Garbage Collection\n",
    "import gc\n",
    "\n",
    "#Gensim Library for Text Processing\n",
    "import gensim.parsing.preprocessing as gsp\n",
    "from gensim import utils\n",
    "\n",
    "#TextBlob Library (Sentiment Analysis)\n",
    "from textblob import TextBlob, Word\n",
    "\n",
    "#Plotting Libraries\n",
    "import matplotlib.pyplot as plt\n",
    "import seaborn as sns\n",
    "\n",
    "#WordCloud Generator\n",
    "from wordcloud import WordCloud,STOPWORDS"
   ]
  },
  {
   "cell_type": "code",
   "execution_count": 11,
   "metadata": {},
   "outputs": [],
   "source": [
    "#Define Directory Path\n",
    "sample_images = '/Users/zwang/Documents/GitHub/Structured_Document_-Extracting/archive/Sample Data Files'\n",
    "test_images = '/Users/zwang/Documents/GitHub/Structured_Document_-Extracting/archive/Dataset'"
   ]
  },
  {
   "cell_type": "code",
   "execution_count": 12,
   "metadata": {},
   "outputs": [],
   "source": [
    "#Custom Function to Traverse the folder\n",
    "def traverse(directory):\n",
    "    path, dirs, files = next(os.walk(directory))\n",
    "    fol_nm = os.path.split(os.path.dirname(path))[-1]\n",
    "    print(f'Number of files found in \"{fol_nm}\" : ',len(files))"
   ]
  },
  {
   "cell_type": "code",
   "execution_count": 13,
   "metadata": {},
   "outputs": [
    {
     "name": "stdout",
     "output_type": "stream",
     "text": [
      "Number of files found in \"archive\" :  3\n",
      "Number of files found in \"archive\" :  239\n"
     ]
    }
   ],
   "source": [
    "#Traversing the folders\n",
    "traverse(sample_images)\n",
    "traverse(test_images)"
   ]
  },
  {
   "cell_type": "code",
   "execution_count": 14,
   "metadata": {},
   "outputs": [],
   "source": [
    "ex_txt = []   #list to store the extracted text\n",
    "\n",
    "#Function to Extract Text\n",
    "def TxtExtract(directory):\n",
    "    \"\"\"\n",
    "    This function will handle the core OCR processing of images.\n",
    "    \"\"\"\n",
    "    \n",
    "    for subdir, dirs, files in os.walk(directory):\n",
    "        for file in files:\n",
    "            filepath = subdir + os.sep + file\n",
    "            text = pytesseract.image_to_string(Image.open(filepath), timeout=5)\n",
    "            if not text:\n",
    "                ex_txt.extend([[file, \"blank\"]])\n",
    "            else:   \n",
    "                ex_txt.extend([[file, text]])\n",
    "                \n",
    "    fol_nm = os.path.split(os.path.dirname(subdir))[-1]\n",
    "    \n",
    "    print(f\"Text Extracted from the files in '{fol_nm}' folder & saved to list..\")"
   ]
  },
  {
   "cell_type": "code",
   "execution_count": 15,
   "metadata": {},
   "outputs": [
    {
     "name": "stdout",
     "output_type": "stream",
     "text": [
      "Text Extracted from the files in 'archive' folder & saved to list..\n",
      "Text Extracted from the files in 'archive' folder & saved to list..\n"
     ]
    }
   ],
   "source": [
    "#Extracting Text from JPG files in Sample Image Folder\n",
    "TxtExtract(sample_images)\n",
    "\n",
    "#Extracting Text from JPG files in Dataset Folder\n",
    "TxtExtract(test_images)"
   ]
  },
  {
   "cell_type": "code",
   "execution_count": 16,
   "metadata": {},
   "outputs": [],
   "source": [
    "#Converting the list to dataframe for further analysis\n",
    "ext_df = pd.DataFrame(ex_txt,columns=['FileName','Text'])"
   ]
  },
  {
   "cell_type": "code",
   "execution_count": 17,
   "metadata": {},
   "outputs": [
    {
     "data": {
      "text/html": [
       "<div>\n",
       "<style scoped>\n",
       "    .dataframe tbody tr th:only-of-type {\n",
       "        vertical-align: middle;\n",
       "    }\n",
       "\n",
       "    .dataframe tbody tr th {\n",
       "        vertical-align: top;\n",
       "    }\n",
       "\n",
       "    .dataframe thead th {\n",
       "        text-align: right;\n",
       "    }\n",
       "</style>\n",
       "<table border=\"1\" class=\"dataframe\">\n",
       "  <thead>\n",
       "    <tr style=\"text-align: right;\">\n",
       "      <th></th>\n",
       "      <th>FileName</th>\n",
       "      <th>Text</th>\n",
       "    </tr>\n",
       "  </thead>\n",
       "  <tbody>\n",
       "    <tr>\n",
       "      <th>0</th>\n",
       "      <td>Sample_Negative.jpg</td>\n",
       "      <td>Of course gay men\\n\\ndress well. They didn't\\n...</td>\n",
       "    </tr>\n",
       "    <tr>\n",
       "      <th>1</th>\n",
       "      <td>Sample_Positive.jpg</td>\n",
       "      <td>blank</td>\n",
       "    </tr>\n",
       "    <tr>\n",
       "      <th>2</th>\n",
       "      <td>Sample_Random.jpg</td>\n",
       "      <td>blank</td>\n",
       "    </tr>\n",
       "    <tr>\n",
       "      <th>3</th>\n",
       "      <td>Test519.jpg</td>\n",
       "      <td>(6) dreamstime.com ID 145823917 © Barrirret\\n</td>\n",
       "    </tr>\n",
       "    <tr>\n",
       "      <th>4</th>\n",
       "      <td>Test243.jpg</td>\n",
       "      <td>LGBTQ FREEDOM\\n= Middle Ea\\n\\n</td>\n",
       "    </tr>\n",
       "  </tbody>\n",
       "</table>\n",
       "</div>"
      ],
      "text/plain": [
       "              FileName                                               Text\n",
       "0  Sample_Negative.jpg  Of course gay men\\n\\ndress well. They didn't\\n...\n",
       "1  Sample_Positive.jpg                                              blank\n",
       "2    Sample_Random.jpg                                              blank\n",
       "3          Test519.jpg      (6) dreamstime.com ID 145823917 © Barrirret\\n\n",
       "4          Test243.jpg                     LGBTQ FREEDOM\\n= Middle Ea\\n\\n"
      ]
     },
     "execution_count": 17,
     "metadata": {},
     "output_type": "execute_result"
    }
   ],
   "source": [
    "#Inspect the dataframe\n",
    "ext_df.head()"
   ]
  },
  {
   "cell_type": "code",
   "execution_count": 18,
   "metadata": {},
   "outputs": [
    {
     "name": "stdout",
     "output_type": "stream",
     "text": [
      "Total Records:  242\n"
     ]
    }
   ],
   "source": [
    "print(\"Total Records: \", ext_df.shape[0])"
   ]
  },
  {
   "cell_type": "code",
   "execution_count": 19,
   "metadata": {},
   "outputs": [],
   "source": [
    "# Create list of pre-processing func (gensim)\n",
    "processes = [\n",
    "               gsp.strip_tags, \n",
    "               gsp.strip_punctuation,\n",
    "               gsp.strip_multiple_whitespaces,\n",
    "               gsp.strip_numeric,\n",
    "               gsp.remove_stopwords, \n",
    "               gsp.strip_short, \n",
    "               gsp.stem_text\n",
    "            ]\n",
    "\n",
    "# Create func to pre-process text\n",
    "def proc_txt(txt):\n",
    "    text = txt.lower()\n",
    "    text = utils.to_unicode(text)\n",
    "    for p in processes:\n",
    "        text = p(text)\n",
    "    return text"
   ]
  },
  {
   "cell_type": "code",
   "execution_count": 20,
   "metadata": {},
   "outputs": [],
   "source": [
    "#Creating a new column with processed text\n",
    "ext_df['Text_Pr'] = ext_df['Text'].apply(lambda x: proc_txt(x))"
   ]
  },
  {
   "cell_type": "code",
   "execution_count": 21,
   "metadata": {},
   "outputs": [
    {
     "name": "stdout",
     "output_type": "stream",
     "text": [
      "Total Records in Text Only Dataframe:  129\n"
     ]
    }
   ],
   "source": [
    "#Creating a seperate dataframe with non-blank Text \n",
    "ext_df_txt = ext_df[(  ext_df['Text_Pr'] != 'blank'  )]\n",
    "\n",
    "print(\"Total Records in Text Only Dataframe: \", ext_df_txt.shape[0])"
   ]
  },
  {
   "cell_type": "code",
   "execution_count": 22,
   "metadata": {},
   "outputs": [],
   "source": [
    "# Creating a function to analyse the tweet sentiments\n",
    "\n",
    "def sentiment_analyzer(text):\n",
    "    TB_sentiment_polarity = TextBlob(text).sentiment.polarity\n",
    "    \n",
    "    # decide sentiment as positive, negative and neutral \n",
    "    if TB_sentiment_polarity >= 0.00 : \n",
    "        return \"Positive\" \n",
    "  \n",
    "    elif TB_sentiment_polarity <= 0.00 : \n",
    "        return \"Negative\" \n",
    "  \n",
    "    else : \n",
    "        return \"Neutral\""
   ]
  },
  {
   "cell_type": "code",
   "execution_count": 23,
   "metadata": {},
   "outputs": [],
   "source": [
    "#Analysing the sentiment\n",
    "ext_df_txt['Sentiment'] = ext_df_txt['Text_Pr'].apply(lambda x: sentiment_analyzer(x))"
   ]
  }
 ],
 "metadata": {
  "kernelspec": {
   "display_name": "myenv",
   "language": "python",
   "name": "python3"
  },
  "language_info": {
   "codemirror_mode": {
    "name": "ipython",
    "version": 3
   },
   "file_extension": ".py",
   "mimetype": "text/x-python",
   "name": "python",
   "nbconvert_exporter": "python",
   "pygments_lexer": "ipython3",
   "version": "3.9.18"
  },
  "orig_nbformat": 4
 },
 "nbformat": 4,
 "nbformat_minor": 2
}
