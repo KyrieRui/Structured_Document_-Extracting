{
 "cells": [
  {
   "cell_type": "code",
   "execution_count": 1,
   "metadata": {},
   "outputs": [],
   "source": [
    "# Generic Libraries\n",
    "from PIL import Image\n",
    "import os\n",
    "import pandas as pd\n",
    "import numpy as np\n",
    "import re,string,unicodedata\n",
    "\n",
    "#Tesseract Library\n",
    "import pytesseract\n",
    "\n",
    "#Warnings\n",
    "import warnings\n",
    "warnings.filterwarnings(\"ignore\")\n",
    "\n",
    "#Garbage Collection\n",
    "import gc\n",
    "\n",
    "#Gensim Library for Text Processing\n",
    "import gensim.parsing.preprocessing as gsp\n",
    "from gensim import utils\n",
    "\n",
    "#TextBlob Library (Sentiment Analysis)\n",
    "from textblob import TextBlob, Word\n",
    "\n",
    "#Plotting Libraries\n",
    "import matplotlib.pyplot as plt\n",
    "import seaborn as sns\n",
    "\n",
    "#WordCloud Generator\n",
    "from wordcloud import WordCloud,STOPWORDS"
   ]
  },
  {
   "cell_type": "code",
   "execution_count": 8,
   "metadata": {},
   "outputs": [],
   "source": [
    "ex_txt = []   #list to store the extracted text\n",
    "filepath = '/Users/zwang/Documents/GitHub/Structured_Document_-Extracting/archive/01.png'\n",
    "text = pytesseract.image_to_string(Image.open(filepath), timeout=5)"
   ]
  },
  {
   "cell_type": "code",
   "execution_count": 9,
   "metadata": {},
   "outputs": [
    {
     "data": {
      "text/plain": [
       "\"Full name: PETER ALLAN Noa>\\n\\nPostal address: // DAWN V/EW PLACE , 7E PUINA\\nPhone numbers: Work: Home: 027 S52 444 7\\n\\nCell phone:\\nEmait: noaddies @ xtra. CO.NZ\\n\\nContact person (name and phone number if different from above):\\n\\nWe are legally required to provide a copy of your submission to the applicant. This includes your\\npersonal details as provided on this submission form. We cannot withhold these details from an\\napplicant.\\n\\n(& Please withhold personal details if a request is made for a copy of my submission under\\nthe Local Government Official Information and Meetings Act 1987.\\n\\nFull name:\\n\\nMy submission is on the following resource consent application(s):\\nApplication number(s): = RM22-0100\\n\\nApplicant's name: TPIL - Momentum Planning and Design Ltd.\\nApplication site location: Te Puna Business Park, 297 Te Puna Station Road\\nType of consent(s) applied for: Earthworks and Stormwater management\\n\\nClosing date for receipt of submission: 30/10/23\\n\""
      ]
     },
     "execution_count": 9,
     "metadata": {},
     "output_type": "execute_result"
    }
   ],
   "source": [
    "text"
   ]
  }
 ],
 "metadata": {
  "kernelspec": {
   "display_name": "myenv",
   "language": "python",
   "name": "python3"
  },
  "language_info": {
   "codemirror_mode": {
    "name": "ipython",
    "version": 3
   },
   "file_extension": ".py",
   "mimetype": "text/x-python",
   "name": "python",
   "nbconvert_exporter": "python",
   "pygments_lexer": "ipython3",
   "version": "3.9.18"
  },
  "orig_nbformat": 4
 },
 "nbformat": 4,
 "nbformat_minor": 2
}
